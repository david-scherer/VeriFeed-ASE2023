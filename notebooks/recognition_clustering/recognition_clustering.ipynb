{
  "metadata": {
    "kernelspec": {
      "name": "python",
      "display_name": "Python (Pyodide)",
      "language": "python"
    },
    "language_info": {
      "codemirror_mode": {
        "name": "ipython",
        "version": 3
      },
      "file_extension": ".py",
      "mimetype": "text/x-python",
      "name": "python",
      "nbconvert_exporter": "python",
      "pygments_lexer": "ipython3",
      "version": "3.11.5"
    }
  },
  "nbformat_minor": 4,
  "nbformat": 4,
  "cells": [
    {
      "cell_type": "markdown",
      "source": "import random\nfrom faker import Faker\n\nfake = Faker()",
      "metadata": {}
    },
    {
      "cell_type": "code",
      "source": "texts = [\n    \"@testuser COVID-19, caused by the SARS-CoV-2 virus, is a highly contagious respiratory illness. #covid19\",\n    \"The Coronavirus, or COVID-19, is a rapidly spreading respiratory disease caused by the SARS-CoV-2 virus.\",\n    \"SARS-CoV-2, responsible for COVID-19, is a contagious respiratory infection with global impact.\",\n    \"@lelele The SARS-CoV-2 virus is the causative agent of COVID-19, a highly contagious respiratory illness.\",\n    \"COVID-19, caused by the SARS-CoV-2 virus, is a widespread respiratory disease affecting populations globally.\",\n\n    \"Donald Trump served as the 45th President of the United States from 2017 to 2021.\",\n    \"In the years 2017 to 2021, Donald Trump held the position of the 45th President of the United States.\",\n    \"During the term from 2017 to 2021, Donald Trump assumed the role of the 45th President of the United States.\",\n    \"From 2017 to 2021, Donald Trump functioned as the 45th President of the United States.\",\n    \"Donald Trump, having served from 2017 to 2021, was the 45th President of the United States.\",\n\n    \"The political debate heated up as candidates clashed over policies and ideologies.\",\n    \"In the corridors of power, politicians strategized to gain support for their proposed legislation.\",\n    \"Amidst political turmoil, citizens voiced their concerns about the direction of the government.\",\n    \"A diplomatic summit aimed to address global challenges and foster international cooperation.\",\n    \"Campaign rallies echoed with passionate speeches as candidates rallied their supporters.\",\n\n    \"The chef skillfully prepared a gourmet dish with a delicate balance of flavors and textures.\",\n    \"The artist meticulously crafted a masterpiece, capturing the essence of emotion on canvas.\",\n    \"The programmer wrote efficient and bug-free code, ensuring the seamless operation of the software.\"\n]\n",
      "metadata": {},
      "outputs": [],
      "execution_count": 68
    },
    {
      "cell_type": "code",
      "source": "\ndef clean_post_text(text: str) -> str:\n    return \" \".join(\n        [\n            word\n            for word in text.split(\" \")\n            if not (word.startswith(\"#\") or word.startswith(\"@\"))\n        ]\n    )\n\ncleaned_texts = [\n    clean_post_text(text) for text in texts\n]\n\nprint(cleaned_texts)",
      "metadata": {},
      "outputs": [
        {
          "name": "stdout",
          "output_type": "stream",
          "text": [
            "['COVID-19, caused by the SARS-CoV-2 virus, is a highly contagious respiratory illness.', 'The Coronavirus, or COVID-19, is a rapidly spreading respiratory disease caused by the SARS-CoV-2 virus.', 'SARS-CoV-2, responsible for COVID-19, is a contagious respiratory infection with global impact.', 'The SARS-CoV-2 virus is the causative agent of COVID-19, a highly contagious respiratory illness.', 'COVID-19, caused by the SARS-CoV-2 virus, is a widespread respiratory disease affecting populations globally.', 'Donald Trump served as the 45th President of the United States from 2017 to 2021.', 'In the years 2017 to 2021, Donald Trump held the position of the 45th President of the United States.', 'During the term from 2017 to 2021, Donald Trump assumed the role of the 45th President of the United States.', 'From 2017 to 2021, Donald Trump functioned as the 45th President of the United States.', 'Donald Trump, having served from 2017 to 2021, was the 45th President of the United States.', 'The political debate heated up as candidates clashed over policies and ideologies.', 'In the corridors of power, politicians strategized to gain support for their proposed legislation.', 'Amidst political turmoil, citizens voiced their concerns about the direction of the government.', 'A diplomatic summit aimed to address global challenges and foster international cooperation.', 'Campaign rallies echoed with passionate speeches as candidates rallied their supporters.', 'The chef skillfully prepared a gourmet dish with a delicate balance of flavors and textures.', 'The artist meticulously crafted a masterpiece, capturing the essence of emotion on canvas.', 'The programmer wrote efficient and bug-free code, ensuring the seamless operation of the software.']\n"
          ]
        }
      ],
      "execution_count": 69
    },
    {
      "cell_type": "code",
      "source": "from sentence_transformers import SentenceTransformer\n\nmodel = SentenceTransformer(\"sentence-transformers/all-mpnet-base-v2\")\nembeddings = model.encode(cleaned_texts)\n\nprint(embeddings)",
      "metadata": {},
      "outputs": [
        {
          "name": "stdout",
          "output_type": "stream",
          "text": [
            "[[-0.02865948 -0.03838501  0.01128075 ... -0.0220021   0.01910506\n",
            "  -0.04755442]\n",
            " [-0.03130977 -0.07609831  0.00800171 ... -0.0065812   0.00458079\n",
            "  -0.03720687]\n",
            " [-0.00278808 -0.01850671  0.01206771 ... -0.0227583  -0.00080379\n",
            "  -0.06140418]\n",
            " ...\n",
            " [ 0.00150428 -0.07479999 -0.02893125 ...  0.00681199  0.01476072\n",
            "  -0.04364553]\n",
            " [-0.0031171  -0.00495308 -0.02398848 ...  0.04534915 -0.00230241\n",
            "  -0.04557031]\n",
            " [-0.03499632 -0.02626318 -0.02109579 ... -0.01396483  0.06009208\n",
            "  -0.047226  ]]\n"
          ]
        }
      ],
      "execution_count": 70
    },
    {
      "cell_type": "code",
      "source": "import pandas as pd\nimport plotly.express as px\nimport numpy as np\nfrom sklearn.manifold import TSNE\n\nxembeddings = TSNE(n_components=2, perplexity=2).fit_transform(embeddings)\n\ndf_embeddings = pd.DataFrame(xembeddings)\ndf_embeddings = df_embeddings.rename(columns={0:'x',1:'y'})\n\nfig = px.scatter(\n    df_embeddings, x='x', y='y',\n    color='x', labels={'color': 'label'},\n    hover_data=['x'], title = 'Embedding visualization')\nfig.show()",
      "metadata": {},
      "outputs": [
        {
          "data": {
            "application/vnd.plotly.v1+json": {
              "config": {
                "plotlyServerURL": "https://plot.ly"
              },
              "data": [
                {
                  "hovertemplate": "x=%{marker.color}<br>y=%{y}<extra></extra>",
                  "legendgroup": "",
                  "marker": {
                    "color": [
                      -30.918153762817383,
                      -39.23908233642578,
                      -26.41399574279785,
                      -21.986207962036133,
                      -33.7340202331543,
                      -4.160548210144043,
                      6.130805015563965,
                      10.512934684753418,
                      0.23984721302986145,
                      -10.010324478149414,
                      89.39485168457031,
                      82.62470245361328,
                      86.61557006835938,
                      78.46979522705078,
                      92.64832305908203,
                      26.362903594970703,
                      30.463600158691406,
                      20.2093563079834
                    ],
                    "coloraxis": "coloraxis",
                    "symbol": "circle"
                  },
                  "mode": "markers",
                  "name": "",
                  "orientation": "v",
                  "showlegend": false,
                  "type": "scatter",
                  "x": [
                    -30.918153762817383,
                    -39.23908233642578,
                    -26.41399574279785,
                    -21.986207962036133,
                    -33.7340202331543,
                    -4.160548210144043,
                    6.130805015563965,
                    10.512934684753418,
                    0.23984721302986145,
                    -10.010324478149414,
                    89.39485168457031,
                    82.62470245361328,
                    86.61557006835938,
                    78.46979522705078,
                    92.64832305908203,
                    26.362903594970703,
                    30.463600158691406,
                    20.2093563079834
                  ],
                  "xaxis": "x",
                  "y": [
                    -37.03927230834961,
                    -27.253076553344727,
                    -32.25517654418945,
                    -31.264434814453125,
                    -30.895336151123047,
                    92.79190826416016,
                    91.56710815429688,
                    86.94361114501953,
                    91.79024505615234,
                    93.88273620605469,
                    -24.69056510925293,
                    -16.178531646728516,
                    -21.139097213745117,
                    -11.387727737426758,
                    -29.13312339782715,
                    -18.280855178833008,
                    -17.13995933532715,
                    -20.167346954345703
                  ],
                  "yaxis": "y"
                }
              ],
              "layout": {
                "coloraxis": {
                  "colorbar": {
                    "title": {
                      "text": "x"
                    }
                  },
                  "colorscale": [
                    [
                      0,
                      "#0d0887"
                    ],
                    [
                      0.1111111111111111,
                      "#46039f"
                    ],
                    [
                      0.2222222222222222,
                      "#7201a8"
                    ],
                    [
                      0.3333333333333333,
                      "#9c179e"
                    ],
                    [
                      0.4444444444444444,
                      "#bd3786"
                    ],
                    [
                      0.5555555555555556,
                      "#d8576b"
                    ],
                    [
                      0.6666666666666666,
                      "#ed7953"
                    ],
                    [
                      0.7777777777777778,
                      "#fb9f3a"
                    ],
                    [
                      0.8888888888888888,
                      "#fdca26"
                    ],
                    [
                      1,
                      "#f0f921"
                    ]
                  ]
                },
                "legend": {
                  "tracegroupgap": 0
                },
                "template": {
                  "data": {
                    "bar": [
                      {
                        "error_x": {
                          "color": "#2a3f5f"
                        },
                        "error_y": {
                          "color": "#2a3f5f"
                        },
                        "marker": {
                          "line": {
                            "color": "#E5ECF6",
                            "width": 0.5
                          },
                          "pattern": {
                            "fillmode": "overlay",
                            "size": 10,
                            "solidity": 0.2
                          }
                        },
                        "type": "bar"
                      }
                    ],
                    "barpolar": [
                      {
                        "marker": {
                          "line": {
                            "color": "#E5ECF6",
                            "width": 0.5
                          },
                          "pattern": {
                            "fillmode": "overlay",
                            "size": 10,
                            "solidity": 0.2
                          }
                        },
                        "type": "barpolar"
                      }
                    ],
                    "carpet": [
                      {
                        "aaxis": {
                          "endlinecolor": "#2a3f5f",
                          "gridcolor": "white",
                          "linecolor": "white",
                          "minorgridcolor": "white",
                          "startlinecolor": "#2a3f5f"
                        },
                        "baxis": {
                          "endlinecolor": "#2a3f5f",
                          "gridcolor": "white",
                          "linecolor": "white",
                          "minorgridcolor": "white",
                          "startlinecolor": "#2a3f5f"
                        },
                        "type": "carpet"
                      }
                    ],
                    "choropleth": [
                      {
                        "colorbar": {
                          "outlinewidth": 0,
                          "ticks": ""
                        },
                        "type": "choropleth"
                      }
                    ],
                    "contour": [
                      {
                        "colorbar": {
                          "outlinewidth": 0,
                          "ticks": ""
                        },
                        "colorscale": [
                          [
                            0,
                            "#0d0887"
                          ],
                          [
                            0.1111111111111111,
                            "#46039f"
                          ],
                          [
                            0.2222222222222222,
                            "#7201a8"
                          ],
                          [
                            0.3333333333333333,
                            "#9c179e"
                          ],
                          [
                            0.4444444444444444,
                            "#bd3786"
                          ],
                          [
                            0.5555555555555556,
                            "#d8576b"
                          ],
                          [
                            0.6666666666666666,
                            "#ed7953"
                          ],
                          [
                            0.7777777777777778,
                            "#fb9f3a"
                          ],
                          [
                            0.8888888888888888,
                            "#fdca26"
                          ],
                          [
                            1,
                            "#f0f921"
                          ]
                        ],
                        "type": "contour"
                      }
                    ],
                    "contourcarpet": [
                      {
                        "colorbar": {
                          "outlinewidth": 0,
                          "ticks": ""
                        },
                        "type": "contourcarpet"
                      }
                    ],
                    "heatmap": [
                      {
                        "colorbar": {
                          "outlinewidth": 0,
                          "ticks": ""
                        },
                        "colorscale": [
                          [
                            0,
                            "#0d0887"
                          ],
                          [
                            0.1111111111111111,
                            "#46039f"
                          ],
                          [
                            0.2222222222222222,
                            "#7201a8"
                          ],
                          [
                            0.3333333333333333,
                            "#9c179e"
                          ],
                          [
                            0.4444444444444444,
                            "#bd3786"
                          ],
                          [
                            0.5555555555555556,
                            "#d8576b"
                          ],
                          [
                            0.6666666666666666,
                            "#ed7953"
                          ],
                          [
                            0.7777777777777778,
                            "#fb9f3a"
                          ],
                          [
                            0.8888888888888888,
                            "#fdca26"
                          ],
                          [
                            1,
                            "#f0f921"
                          ]
                        ],
                        "type": "heatmap"
                      }
                    ],
                    "heatmapgl": [
                      {
                        "colorbar": {
                          "outlinewidth": 0,
                          "ticks": ""
                        },
                        "colorscale": [
                          [
                            0,
                            "#0d0887"
                          ],
                          [
                            0.1111111111111111,
                            "#46039f"
                          ],
                          [
                            0.2222222222222222,
                            "#7201a8"
                          ],
                          [
                            0.3333333333333333,
                            "#9c179e"
                          ],
                          [
                            0.4444444444444444,
                            "#bd3786"
                          ],
                          [
                            0.5555555555555556,
                            "#d8576b"
                          ],
                          [
                            0.6666666666666666,
                            "#ed7953"
                          ],
                          [
                            0.7777777777777778,
                            "#fb9f3a"
                          ],
                          [
                            0.8888888888888888,
                            "#fdca26"
                          ],
                          [
                            1,
                            "#f0f921"
                          ]
                        ],
                        "type": "heatmapgl"
                      }
                    ],
                    "histogram": [
                      {
                        "marker": {
                          "pattern": {
                            "fillmode": "overlay",
                            "size": 10,
                            "solidity": 0.2
                          }
                        },
                        "type": "histogram"
                      }
                    ],
                    "histogram2d": [
                      {
                        "colorbar": {
                          "outlinewidth": 0,
                          "ticks": ""
                        },
                        "colorscale": [
                          [
                            0,
                            "#0d0887"
                          ],
                          [
                            0.1111111111111111,
                            "#46039f"
                          ],
                          [
                            0.2222222222222222,
                            "#7201a8"
                          ],
                          [
                            0.3333333333333333,
                            "#9c179e"
                          ],
                          [
                            0.4444444444444444,
                            "#bd3786"
                          ],
                          [
                            0.5555555555555556,
                            "#d8576b"
                          ],
                          [
                            0.6666666666666666,
                            "#ed7953"
                          ],
                          [
                            0.7777777777777778,
                            "#fb9f3a"
                          ],
                          [
                            0.8888888888888888,
                            "#fdca26"
                          ],
                          [
                            1,
                            "#f0f921"
                          ]
                        ],
                        "type": "histogram2d"
                      }
                    ],
                    "histogram2dcontour": [
                      {
                        "colorbar": {
                          "outlinewidth": 0,
                          "ticks": ""
                        },
                        "colorscale": [
                          [
                            0,
                            "#0d0887"
                          ],
                          [
                            0.1111111111111111,
                            "#46039f"
                          ],
                          [
                            0.2222222222222222,
                            "#7201a8"
                          ],
                          [
                            0.3333333333333333,
                            "#9c179e"
                          ],
                          [
                            0.4444444444444444,
                            "#bd3786"
                          ],
                          [
                            0.5555555555555556,
                            "#d8576b"
                          ],
                          [
                            0.6666666666666666,
                            "#ed7953"
                          ],
                          [
                            0.7777777777777778,
                            "#fb9f3a"
                          ],
                          [
                            0.8888888888888888,
                            "#fdca26"
                          ],
                          [
                            1,
                            "#f0f921"
                          ]
                        ],
                        "type": "histogram2dcontour"
                      }
                    ],
                    "mesh3d": [
                      {
                        "colorbar": {
                          "outlinewidth": 0,
                          "ticks": ""
                        },
                        "type": "mesh3d"
                      }
                    ],
                    "parcoords": [
                      {
                        "line": {
                          "colorbar": {
                            "outlinewidth": 0,
                            "ticks": ""
                          }
                        },
                        "type": "parcoords"
                      }
                    ],
                    "pie": [
                      {
                        "automargin": true,
                        "type": "pie"
                      }
                    ],
                    "scatter": [
                      {
                        "fillpattern": {
                          "fillmode": "overlay",
                          "size": 10,
                          "solidity": 0.2
                        },
                        "type": "scatter"
                      }
                    ],
                    "scatter3d": [
                      {
                        "line": {
                          "colorbar": {
                            "outlinewidth": 0,
                            "ticks": ""
                          }
                        },
                        "marker": {
                          "colorbar": {
                            "outlinewidth": 0,
                            "ticks": ""
                          }
                        },
                        "type": "scatter3d"
                      }
                    ],
                    "scattercarpet": [
                      {
                        "marker": {
                          "colorbar": {
                            "outlinewidth": 0,
                            "ticks": ""
                          }
                        },
                        "type": "scattercarpet"
                      }
                    ],
                    "scattergeo": [
                      {
                        "marker": {
                          "colorbar": {
                            "outlinewidth": 0,
                            "ticks": ""
                          }
                        },
                        "type": "scattergeo"
                      }
                    ],
                    "scattergl": [
                      {
                        "marker": {
                          "colorbar": {
                            "outlinewidth": 0,
                            "ticks": ""
                          }
                        },
                        "type": "scattergl"
                      }
                    ],
                    "scattermapbox": [
                      {
                        "marker": {
                          "colorbar": {
                            "outlinewidth": 0,
                            "ticks": ""
                          }
                        },
                        "type": "scattermapbox"
                      }
                    ],
                    "scatterpolar": [
                      {
                        "marker": {
                          "colorbar": {
                            "outlinewidth": 0,
                            "ticks": ""
                          }
                        },
                        "type": "scatterpolar"
                      }
                    ],
                    "scatterpolargl": [
                      {
                        "marker": {
                          "colorbar": {
                            "outlinewidth": 0,
                            "ticks": ""
                          }
                        },
                        "type": "scatterpolargl"
                      }
                    ],
                    "scatterternary": [
                      {
                        "marker": {
                          "colorbar": {
                            "outlinewidth": 0,
                            "ticks": ""
                          }
                        },
                        "type": "scatterternary"
                      }
                    ],
                    "surface": [
                      {
                        "colorbar": {
                          "outlinewidth": 0,
                          "ticks": ""
                        },
                        "colorscale": [
                          [
                            0,
                            "#0d0887"
                          ],
                          [
                            0.1111111111111111,
                            "#46039f"
                          ],
                          [
                            0.2222222222222222,
                            "#7201a8"
                          ],
                          [
                            0.3333333333333333,
                            "#9c179e"
                          ],
                          [
                            0.4444444444444444,
                            "#bd3786"
                          ],
                          [
                            0.5555555555555556,
                            "#d8576b"
                          ],
                          [
                            0.6666666666666666,
                            "#ed7953"
                          ],
                          [
                            0.7777777777777778,
                            "#fb9f3a"
                          ],
                          [
                            0.8888888888888888,
                            "#fdca26"
                          ],
                          [
                            1,
                            "#f0f921"
                          ]
                        ],
                        "type": "surface"
                      }
                    ],
                    "table": [
                      {
                        "cells": {
                          "fill": {
                            "color": "#EBF0F8"
                          },
                          "line": {
                            "color": "white"
                          }
                        },
                        "header": {
                          "fill": {
                            "color": "#C8D4E3"
                          },
                          "line": {
                            "color": "white"
                          }
                        },
                        "type": "table"
                      }
                    ]
                  },
                  "layout": {
                    "annotationdefaults": {
                      "arrowcolor": "#2a3f5f",
                      "arrowhead": 0,
                      "arrowwidth": 1
                    },
                    "autotypenumbers": "strict",
                    "coloraxis": {
                      "colorbar": {
                        "outlinewidth": 0,
                        "ticks": ""
                      }
                    },
                    "colorscale": {
                      "diverging": [
                        [
                          0,
                          "#8e0152"
                        ],
                        [
                          0.1,
                          "#c51b7d"
                        ],
                        [
                          0.2,
                          "#de77ae"
                        ],
                        [
                          0.3,
                          "#f1b6da"
                        ],
                        [
                          0.4,
                          "#fde0ef"
                        ],
                        [
                          0.5,
                          "#f7f7f7"
                        ],
                        [
                          0.6,
                          "#e6f5d0"
                        ],
                        [
                          0.7,
                          "#b8e186"
                        ],
                        [
                          0.8,
                          "#7fbc41"
                        ],
                        [
                          0.9,
                          "#4d9221"
                        ],
                        [
                          1,
                          "#276419"
                        ]
                      ],
                      "sequential": [
                        [
                          0,
                          "#0d0887"
                        ],
                        [
                          0.1111111111111111,
                          "#46039f"
                        ],
                        [
                          0.2222222222222222,
                          "#7201a8"
                        ],
                        [
                          0.3333333333333333,
                          "#9c179e"
                        ],
                        [
                          0.4444444444444444,
                          "#bd3786"
                        ],
                        [
                          0.5555555555555556,
                          "#d8576b"
                        ],
                        [
                          0.6666666666666666,
                          "#ed7953"
                        ],
                        [
                          0.7777777777777778,
                          "#fb9f3a"
                        ],
                        [
                          0.8888888888888888,
                          "#fdca26"
                        ],
                        [
                          1,
                          "#f0f921"
                        ]
                      ],
                      "sequentialminus": [
                        [
                          0,
                          "#0d0887"
                        ],
                        [
                          0.1111111111111111,
                          "#46039f"
                        ],
                        [
                          0.2222222222222222,
                          "#7201a8"
                        ],
                        [
                          0.3333333333333333,
                          "#9c179e"
                        ],
                        [
                          0.4444444444444444,
                          "#bd3786"
                        ],
                        [
                          0.5555555555555556,
                          "#d8576b"
                        ],
                        [
                          0.6666666666666666,
                          "#ed7953"
                        ],
                        [
                          0.7777777777777778,
                          "#fb9f3a"
                        ],
                        [
                          0.8888888888888888,
                          "#fdca26"
                        ],
                        [
                          1,
                          "#f0f921"
                        ]
                      ]
                    },
                    "colorway": [
                      "#636efa",
                      "#EF553B",
                      "#00cc96",
                      "#ab63fa",
                      "#FFA15A",
                      "#19d3f3",
                      "#FF6692",
                      "#B6E880",
                      "#FF97FF",
                      "#FECB52"
                    ],
                    "font": {
                      "color": "#2a3f5f"
                    },
                    "geo": {
                      "bgcolor": "white",
                      "lakecolor": "white",
                      "landcolor": "#E5ECF6",
                      "showlakes": true,
                      "showland": true,
                      "subunitcolor": "white"
                    },
                    "hoverlabel": {
                      "align": "left"
                    },
                    "hovermode": "closest",
                    "mapbox": {
                      "style": "light"
                    },
                    "paper_bgcolor": "white",
                    "plot_bgcolor": "#E5ECF6",
                    "polar": {
                      "angularaxis": {
                        "gridcolor": "white",
                        "linecolor": "white",
                        "ticks": ""
                      },
                      "bgcolor": "#E5ECF6",
                      "radialaxis": {
                        "gridcolor": "white",
                        "linecolor": "white",
                        "ticks": ""
                      }
                    },
                    "scene": {
                      "xaxis": {
                        "backgroundcolor": "#E5ECF6",
                        "gridcolor": "white",
                        "gridwidth": 2,
                        "linecolor": "white",
                        "showbackground": true,
                        "ticks": "",
                        "zerolinecolor": "white"
                      },
                      "yaxis": {
                        "backgroundcolor": "#E5ECF6",
                        "gridcolor": "white",
                        "gridwidth": 2,
                        "linecolor": "white",
                        "showbackground": true,
                        "ticks": "",
                        "zerolinecolor": "white"
                      },
                      "zaxis": {
                        "backgroundcolor": "#E5ECF6",
                        "gridcolor": "white",
                        "gridwidth": 2,
                        "linecolor": "white",
                        "showbackground": true,
                        "ticks": "",
                        "zerolinecolor": "white"
                      }
                    },
                    "shapedefaults": {
                      "line": {
                        "color": "#2a3f5f"
                      }
                    },
                    "ternary": {
                      "aaxis": {
                        "gridcolor": "white",
                        "linecolor": "white",
                        "ticks": ""
                      },
                      "baxis": {
                        "gridcolor": "white",
                        "linecolor": "white",
                        "ticks": ""
                      },
                      "bgcolor": "#E5ECF6",
                      "caxis": {
                        "gridcolor": "white",
                        "linecolor": "white",
                        "ticks": ""
                      }
                    },
                    "title": {
                      "x": 0.05
                    },
                    "xaxis": {
                      "automargin": true,
                      "gridcolor": "white",
                      "linecolor": "white",
                      "ticks": "",
                      "title": {
                        "standoff": 15
                      },
                      "zerolinecolor": "white",
                      "zerolinewidth": 2
                    },
                    "yaxis": {
                      "automargin": true,
                      "gridcolor": "white",
                      "linecolor": "white",
                      "ticks": "",
                      "title": {
                        "standoff": 15
                      },
                      "zerolinecolor": "white",
                      "zerolinewidth": 2
                    }
                  }
                },
                "title": {
                  "text": "Embedding visualization"
                },
                "xaxis": {
                  "anchor": "y",
                  "domain": [
                    0,
                    1
                  ],
                  "title": {
                    "text": "x"
                  }
                },
                "yaxis": {
                  "anchor": "x",
                  "domain": [
                    0,
                    1
                  ],
                  "title": {
                    "text": "y"
                  }
                }
              }
            }
          },
          "metadata": {},
          "output_type": "display_data"
        }
      ],
      "execution_count": 71
    },
    {
      "cell_type": "code",
      "source": "from scipy.cluster import hierarchy\nimport plotly.figure_factory as ff\n\n\n#clusters = hierarchy.linkage(embeddings, \"average\", metric=\"cosine\")\n#flat_clusters = hierarchy.fcluster(clusters, threshold, criterion=\"distance\")\n\nfig = ff.create_dendrogram(embeddings,\n                           linkagefun = lambda x: hierarchy.linkage(embeddings, \"average\", metric=\"cosine\"))\n\nfig.update_layout(title = 'Hierarchical Clustering', xaxis_title='Texts',\n                   yaxis_title='Cosine', width=700, height=700)\n\nfig.show()\n",
      "metadata": {},
      "outputs": [
        {
          "data": {
            "application/vnd.plotly.v1+json": {
              "config": {
                "plotlyServerURL": "https://plot.ly"
              },
              "data": [
                {
                  "hoverinfo": "text",
                  "marker": {
                    "color": "rgb(0,116,217)"
                  },
                  "mode": "lines",
                  "type": "scatter",
                  "x": [
                    15,
                    15,
                    25,
                    25
                  ],
                  "xaxis": "x",
                  "y": [
                    0,
                    0.6757754124762998,
                    0.6757754124762998,
                    0
                  ],
                  "yaxis": "y"
                },
                {
                  "hoverinfo": "text",
                  "marker": {
                    "color": "rgb(0,116,217)"
                  },
                  "mode": "lines",
                  "type": "scatter",
                  "x": [
                    5,
                    5,
                    20,
                    20
                  ],
                  "xaxis": "x",
                  "y": [
                    0,
                    0.8668378703171,
                    0.8668378703171,
                    0.6757754124762998
                  ],
                  "yaxis": "y"
                },
                {
                  "hoverinfo": "text",
                  "marker": {
                    "color": "rgb(61,153,112)"
                  },
                  "mode": "lines",
                  "type": "scatter",
                  "x": [
                    45,
                    45,
                    55,
                    55
                  ],
                  "xaxis": "x",
                  "y": [
                    0,
                    0.06934343938967158,
                    0.06934343938967158,
                    0
                  ],
                  "yaxis": "y"
                },
                {
                  "hoverinfo": "text",
                  "marker": {
                    "color": "rgb(61,153,112)"
                  },
                  "mode": "lines",
                  "type": "scatter",
                  "x": [
                    65,
                    65,
                    75,
                    75
                  ],
                  "xaxis": "x",
                  "y": [
                    0,
                    0.09097660899589899,
                    0.09097660899589899,
                    0
                  ],
                  "yaxis": "y"
                },
                {
                  "hoverinfo": "text",
                  "marker": {
                    "color": "rgb(61,153,112)"
                  },
                  "mode": "lines",
                  "type": "scatter",
                  "x": [
                    50,
                    50,
                    70,
                    70
                  ],
                  "xaxis": "x",
                  "y": [
                    0.06934343938967158,
                    0.10008367706641311,
                    0.10008367706641311,
                    0.09097660899589899
                  ],
                  "yaxis": "y"
                },
                {
                  "hoverinfo": "text",
                  "marker": {
                    "color": "rgb(61,153,112)"
                  },
                  "mode": "lines",
                  "type": "scatter",
                  "x": [
                    35,
                    35,
                    60,
                    60
                  ],
                  "xaxis": "x",
                  "y": [
                    0,
                    0.1595189869135932,
                    0.1595189869135932,
                    0.10008367706641311
                  ],
                  "yaxis": "y"
                },
                {
                  "hoverinfo": "text",
                  "marker": {
                    "color": "rgb(255,65,54)"
                  },
                  "mode": "lines",
                  "type": "scatter",
                  "x": [
                    95,
                    95,
                    105,
                    105
                  ],
                  "xaxis": "x",
                  "y": [
                    0,
                    0.023853207191106396,
                    0.023853207191106396,
                    0
                  ],
                  "yaxis": "y"
                },
                {
                  "hoverinfo": "text",
                  "marker": {
                    "color": "rgb(255,65,54)"
                  },
                  "mode": "lines",
                  "type": "scatter",
                  "x": [
                    85,
                    85,
                    100,
                    100
                  ],
                  "xaxis": "x",
                  "y": [
                    0,
                    0.04194011552851529,
                    0.04194011552851529,
                    0.023853207191106396
                  ],
                  "yaxis": "y"
                },
                {
                  "hoverinfo": "text",
                  "marker": {
                    "color": "rgb(255,65,54)"
                  },
                  "mode": "lines",
                  "type": "scatter",
                  "x": [
                    115,
                    115,
                    125,
                    125
                  ],
                  "xaxis": "x",
                  "y": [
                    0,
                    0.0509812222525865,
                    0.0509812222525865,
                    0
                  ],
                  "yaxis": "y"
                },
                {
                  "hoverinfo": "text",
                  "marker": {
                    "color": "rgb(255,65,54)"
                  },
                  "mode": "lines",
                  "type": "scatter",
                  "x": [
                    92.5,
                    92.5,
                    120,
                    120
                  ],
                  "xaxis": "x",
                  "y": [
                    0.04194011552851529,
                    0.06840950163173266,
                    0.06840950163173266,
                    0.0509812222525865
                  ],
                  "yaxis": "y"
                },
                {
                  "hoverinfo": "text",
                  "marker": {
                    "color": "rgb(35,205,205)"
                  },
                  "mode": "lines",
                  "type": "scatter",
                  "x": [
                    165,
                    165,
                    175,
                    175
                  ],
                  "xaxis": "x",
                  "y": [
                    0,
                    0.42108158478092084,
                    0.42108158478092084,
                    0
                  ],
                  "yaxis": "y"
                },
                {
                  "hoverinfo": "text",
                  "marker": {
                    "color": "rgb(35,205,205)"
                  },
                  "mode": "lines",
                  "type": "scatter",
                  "x": [
                    155,
                    155,
                    170,
                    170
                  ],
                  "xaxis": "x",
                  "y": [
                    0,
                    0.5169632394460892,
                    0.5169632394460892,
                    0.42108158478092084
                  ],
                  "yaxis": "y"
                },
                {
                  "hoverinfo": "text",
                  "marker": {
                    "color": "rgb(35,205,205)"
                  },
                  "mode": "lines",
                  "type": "scatter",
                  "x": [
                    145,
                    145,
                    162.5,
                    162.5
                  ],
                  "xaxis": "x",
                  "y": [
                    0,
                    0.5821536773681381,
                    0.5821536773681381,
                    0.5169632394460892
                  ],
                  "yaxis": "y"
                },
                {
                  "hoverinfo": "text",
                  "marker": {
                    "color": "rgb(0,116,217)"
                  },
                  "mode": "lines",
                  "type": "scatter",
                  "x": [
                    135,
                    135,
                    153.75,
                    153.75
                  ],
                  "xaxis": "x",
                  "y": [
                    0,
                    0.716971610607931,
                    0.716971610607931,
                    0.5821536773681381
                  ],
                  "yaxis": "y"
                },
                {
                  "hoverinfo": "text",
                  "marker": {
                    "color": "rgb(0,116,217)"
                  },
                  "mode": "lines",
                  "type": "scatter",
                  "x": [
                    106.25,
                    106.25,
                    144.375,
                    144.375
                  ],
                  "xaxis": "x",
                  "y": [
                    0.06840950163173266,
                    0.8619351430034868,
                    0.8619351430034868,
                    0.716971610607931
                  ],
                  "yaxis": "y"
                },
                {
                  "hoverinfo": "text",
                  "marker": {
                    "color": "rgb(0,116,217)"
                  },
                  "mode": "lines",
                  "type": "scatter",
                  "x": [
                    47.5,
                    47.5,
                    125.3125,
                    125.3125
                  ],
                  "xaxis": "x",
                  "y": [
                    0.1595189869135932,
                    0.8998225584578867,
                    0.8998225584578867,
                    0.8619351430034868
                  ],
                  "yaxis": "y"
                },
                {
                  "hoverinfo": "text",
                  "marker": {
                    "color": "rgb(0,116,217)"
                  },
                  "mode": "lines",
                  "type": "scatter",
                  "x": [
                    12.5,
                    12.5,
                    86.40625,
                    86.40625
                  ],
                  "xaxis": "x",
                  "y": [
                    0.8668378703171,
                    0.9447248811890443,
                    0.9447248811890443,
                    0.8998225584578867
                  ],
                  "yaxis": "y"
                }
              ],
              "layout": {
                "autosize": false,
                "height": 700,
                "hovermode": "closest",
                "showlegend": false,
                "template": {
                  "data": {
                    "bar": [
                      {
                        "error_x": {
                          "color": "#2a3f5f"
                        },
                        "error_y": {
                          "color": "#2a3f5f"
                        },
                        "marker": {
                          "line": {
                            "color": "#E5ECF6",
                            "width": 0.5
                          },
                          "pattern": {
                            "fillmode": "overlay",
                            "size": 10,
                            "solidity": 0.2
                          }
                        },
                        "type": "bar"
                      }
                    ],
                    "barpolar": [
                      {
                        "marker": {
                          "line": {
                            "color": "#E5ECF6",
                            "width": 0.5
                          },
                          "pattern": {
                            "fillmode": "overlay",
                            "size": 10,
                            "solidity": 0.2
                          }
                        },
                        "type": "barpolar"
                      }
                    ],
                    "carpet": [
                      {
                        "aaxis": {
                          "endlinecolor": "#2a3f5f",
                          "gridcolor": "white",
                          "linecolor": "white",
                          "minorgridcolor": "white",
                          "startlinecolor": "#2a3f5f"
                        },
                        "baxis": {
                          "endlinecolor": "#2a3f5f",
                          "gridcolor": "white",
                          "linecolor": "white",
                          "minorgridcolor": "white",
                          "startlinecolor": "#2a3f5f"
                        },
                        "type": "carpet"
                      }
                    ],
                    "choropleth": [
                      {
                        "colorbar": {
                          "outlinewidth": 0,
                          "ticks": ""
                        },
                        "type": "choropleth"
                      }
                    ],
                    "contour": [
                      {
                        "colorbar": {
                          "outlinewidth": 0,
                          "ticks": ""
                        },
                        "colorscale": [
                          [
                            0,
                            "#0d0887"
                          ],
                          [
                            0.1111111111111111,
                            "#46039f"
                          ],
                          [
                            0.2222222222222222,
                            "#7201a8"
                          ],
                          [
                            0.3333333333333333,
                            "#9c179e"
                          ],
                          [
                            0.4444444444444444,
                            "#bd3786"
                          ],
                          [
                            0.5555555555555556,
                            "#d8576b"
                          ],
                          [
                            0.6666666666666666,
                            "#ed7953"
                          ],
                          [
                            0.7777777777777778,
                            "#fb9f3a"
                          ],
                          [
                            0.8888888888888888,
                            "#fdca26"
                          ],
                          [
                            1,
                            "#f0f921"
                          ]
                        ],
                        "type": "contour"
                      }
                    ],
                    "contourcarpet": [
                      {
                        "colorbar": {
                          "outlinewidth": 0,
                          "ticks": ""
                        },
                        "type": "contourcarpet"
                      }
                    ],
                    "heatmap": [
                      {
                        "colorbar": {
                          "outlinewidth": 0,
                          "ticks": ""
                        },
                        "colorscale": [
                          [
                            0,
                            "#0d0887"
                          ],
                          [
                            0.1111111111111111,
                            "#46039f"
                          ],
                          [
                            0.2222222222222222,
                            "#7201a8"
                          ],
                          [
                            0.3333333333333333,
                            "#9c179e"
                          ],
                          [
                            0.4444444444444444,
                            "#bd3786"
                          ],
                          [
                            0.5555555555555556,
                            "#d8576b"
                          ],
                          [
                            0.6666666666666666,
                            "#ed7953"
                          ],
                          [
                            0.7777777777777778,
                            "#fb9f3a"
                          ],
                          [
                            0.8888888888888888,
                            "#fdca26"
                          ],
                          [
                            1,
                            "#f0f921"
                          ]
                        ],
                        "type": "heatmap"
                      }
                    ],
                    "heatmapgl": [
                      {
                        "colorbar": {
                          "outlinewidth": 0,
                          "ticks": ""
                        },
                        "colorscale": [
                          [
                            0,
                            "#0d0887"
                          ],
                          [
                            0.1111111111111111,
                            "#46039f"
                          ],
                          [
                            0.2222222222222222,
                            "#7201a8"
                          ],
                          [
                            0.3333333333333333,
                            "#9c179e"
                          ],
                          [
                            0.4444444444444444,
                            "#bd3786"
                          ],
                          [
                            0.5555555555555556,
                            "#d8576b"
                          ],
                          [
                            0.6666666666666666,
                            "#ed7953"
                          ],
                          [
                            0.7777777777777778,
                            "#fb9f3a"
                          ],
                          [
                            0.8888888888888888,
                            "#fdca26"
                          ],
                          [
                            1,
                            "#f0f921"
                          ]
                        ],
                        "type": "heatmapgl"
                      }
                    ],
                    "histogram": [
                      {
                        "marker": {
                          "pattern": {
                            "fillmode": "overlay",
                            "size": 10,
                            "solidity": 0.2
                          }
                        },
                        "type": "histogram"
                      }
                    ],
                    "histogram2d": [
                      {
                        "colorbar": {
                          "outlinewidth": 0,
                          "ticks": ""
                        },
                        "colorscale": [
                          [
                            0,
                            "#0d0887"
                          ],
                          [
                            0.1111111111111111,
                            "#46039f"
                          ],
                          [
                            0.2222222222222222,
                            "#7201a8"
                          ],
                          [
                            0.3333333333333333,
                            "#9c179e"
                          ],
                          [
                            0.4444444444444444,
                            "#bd3786"
                          ],
                          [
                            0.5555555555555556,
                            "#d8576b"
                          ],
                          [
                            0.6666666666666666,
                            "#ed7953"
                          ],
                          [
                            0.7777777777777778,
                            "#fb9f3a"
                          ],
                          [
                            0.8888888888888888,
                            "#fdca26"
                          ],
                          [
                            1,
                            "#f0f921"
                          ]
                        ],
                        "type": "histogram2d"
                      }
                    ],
                    "histogram2dcontour": [
                      {
                        "colorbar": {
                          "outlinewidth": 0,
                          "ticks": ""
                        },
                        "colorscale": [
                          [
                            0,
                            "#0d0887"
                          ],
                          [
                            0.1111111111111111,
                            "#46039f"
                          ],
                          [
                            0.2222222222222222,
                            "#7201a8"
                          ],
                          [
                            0.3333333333333333,
                            "#9c179e"
                          ],
                          [
                            0.4444444444444444,
                            "#bd3786"
                          ],
                          [
                            0.5555555555555556,
                            "#d8576b"
                          ],
                          [
                            0.6666666666666666,
                            "#ed7953"
                          ],
                          [
                            0.7777777777777778,
                            "#fb9f3a"
                          ],
                          [
                            0.8888888888888888,
                            "#fdca26"
                          ],
                          [
                            1,
                            "#f0f921"
                          ]
                        ],
                        "type": "histogram2dcontour"
                      }
                    ],
                    "mesh3d": [
                      {
                        "colorbar": {
                          "outlinewidth": 0,
                          "ticks": ""
                        },
                        "type": "mesh3d"
                      }
                    ],
                    "parcoords": [
                      {
                        "line": {
                          "colorbar": {
                            "outlinewidth": 0,
                            "ticks": ""
                          }
                        },
                        "type": "parcoords"
                      }
                    ],
                    "pie": [
                      {
                        "automargin": true,
                        "type": "pie"
                      }
                    ],
                    "scatter": [
                      {
                        "fillpattern": {
                          "fillmode": "overlay",
                          "size": 10,
                          "solidity": 0.2
                        },
                        "type": "scatter"
                      }
                    ],
                    "scatter3d": [
                      {
                        "line": {
                          "colorbar": {
                            "outlinewidth": 0,
                            "ticks": ""
                          }
                        },
                        "marker": {
                          "colorbar": {
                            "outlinewidth": 0,
                            "ticks": ""
                          }
                        },
                        "type": "scatter3d"
                      }
                    ],
                    "scattercarpet": [
                      {
                        "marker": {
                          "colorbar": {
                            "outlinewidth": 0,
                            "ticks": ""
                          }
                        },
                        "type": "scattercarpet"
                      }
                    ],
                    "scattergeo": [
                      {
                        "marker": {
                          "colorbar": {
                            "outlinewidth": 0,
                            "ticks": ""
                          }
                        },
                        "type": "scattergeo"
                      }
                    ],
                    "scattergl": [
                      {
                        "marker": {
                          "colorbar": {
                            "outlinewidth": 0,
                            "ticks": ""
                          }
                        },
                        "type": "scattergl"
                      }
                    ],
                    "scattermapbox": [
                      {
                        "marker": {
                          "colorbar": {
                            "outlinewidth": 0,
                            "ticks": ""
                          }
                        },
                        "type": "scattermapbox"
                      }
                    ],
                    "scatterpolar": [
                      {
                        "marker": {
                          "colorbar": {
                            "outlinewidth": 0,
                            "ticks": ""
                          }
                        },
                        "type": "scatterpolar"
                      }
                    ],
                    "scatterpolargl": [
                      {
                        "marker": {
                          "colorbar": {
                            "outlinewidth": 0,
                            "ticks": ""
                          }
                        },
                        "type": "scatterpolargl"
                      }
                    ],
                    "scatterternary": [
                      {
                        "marker": {
                          "colorbar": {
                            "outlinewidth": 0,
                            "ticks": ""
                          }
                        },
                        "type": "scatterternary"
                      }
                    ],
                    "surface": [
                      {
                        "colorbar": {
                          "outlinewidth": 0,
                          "ticks": ""
                        },
                        "colorscale": [
                          [
                            0,
                            "#0d0887"
                          ],
                          [
                            0.1111111111111111,
                            "#46039f"
                          ],
                          [
                            0.2222222222222222,
                            "#7201a8"
                          ],
                          [
                            0.3333333333333333,
                            "#9c179e"
                          ],
                          [
                            0.4444444444444444,
                            "#bd3786"
                          ],
                          [
                            0.5555555555555556,
                            "#d8576b"
                          ],
                          [
                            0.6666666666666666,
                            "#ed7953"
                          ],
                          [
                            0.7777777777777778,
                            "#fb9f3a"
                          ],
                          [
                            0.8888888888888888,
                            "#fdca26"
                          ],
                          [
                            1,
                            "#f0f921"
                          ]
                        ],
                        "type": "surface"
                      }
                    ],
                    "table": [
                      {
                        "cells": {
                          "fill": {
                            "color": "#EBF0F8"
                          },
                          "line": {
                            "color": "white"
                          }
                        },
                        "header": {
                          "fill": {
                            "color": "#C8D4E3"
                          },
                          "line": {
                            "color": "white"
                          }
                        },
                        "type": "table"
                      }
                    ]
                  },
                  "layout": {
                    "annotationdefaults": {
                      "arrowcolor": "#2a3f5f",
                      "arrowhead": 0,
                      "arrowwidth": 1
                    },
                    "autotypenumbers": "strict",
                    "coloraxis": {
                      "colorbar": {
                        "outlinewidth": 0,
                        "ticks": ""
                      }
                    },
                    "colorscale": {
                      "diverging": [
                        [
                          0,
                          "#8e0152"
                        ],
                        [
                          0.1,
                          "#c51b7d"
                        ],
                        [
                          0.2,
                          "#de77ae"
                        ],
                        [
                          0.3,
                          "#f1b6da"
                        ],
                        [
                          0.4,
                          "#fde0ef"
                        ],
                        [
                          0.5,
                          "#f7f7f7"
                        ],
                        [
                          0.6,
                          "#e6f5d0"
                        ],
                        [
                          0.7,
                          "#b8e186"
                        ],
                        [
                          0.8,
                          "#7fbc41"
                        ],
                        [
                          0.9,
                          "#4d9221"
                        ],
                        [
                          1,
                          "#276419"
                        ]
                      ],
                      "sequential": [
                        [
                          0,
                          "#0d0887"
                        ],
                        [
                          0.1111111111111111,
                          "#46039f"
                        ],
                        [
                          0.2222222222222222,
                          "#7201a8"
                        ],
                        [
                          0.3333333333333333,
                          "#9c179e"
                        ],
                        [
                          0.4444444444444444,
                          "#bd3786"
                        ],
                        [
                          0.5555555555555556,
                          "#d8576b"
                        ],
                        [
                          0.6666666666666666,
                          "#ed7953"
                        ],
                        [
                          0.7777777777777778,
                          "#fb9f3a"
                        ],
                        [
                          0.8888888888888888,
                          "#fdca26"
                        ],
                        [
                          1,
                          "#f0f921"
                        ]
                      ],
                      "sequentialminus": [
                        [
                          0,
                          "#0d0887"
                        ],
                        [
                          0.1111111111111111,
                          "#46039f"
                        ],
                        [
                          0.2222222222222222,
                          "#7201a8"
                        ],
                        [
                          0.3333333333333333,
                          "#9c179e"
                        ],
                        [
                          0.4444444444444444,
                          "#bd3786"
                        ],
                        [
                          0.5555555555555556,
                          "#d8576b"
                        ],
                        [
                          0.6666666666666666,
                          "#ed7953"
                        ],
                        [
                          0.7777777777777778,
                          "#fb9f3a"
                        ],
                        [
                          0.8888888888888888,
                          "#fdca26"
                        ],
                        [
                          1,
                          "#f0f921"
                        ]
                      ]
                    },
                    "colorway": [
                      "#636efa",
                      "#EF553B",
                      "#00cc96",
                      "#ab63fa",
                      "#FFA15A",
                      "#19d3f3",
                      "#FF6692",
                      "#B6E880",
                      "#FF97FF",
                      "#FECB52"
                    ],
                    "font": {
                      "color": "#2a3f5f"
                    },
                    "geo": {
                      "bgcolor": "white",
                      "lakecolor": "white",
                      "landcolor": "#E5ECF6",
                      "showlakes": true,
                      "showland": true,
                      "subunitcolor": "white"
                    },
                    "hoverlabel": {
                      "align": "left"
                    },
                    "hovermode": "closest",
                    "mapbox": {
                      "style": "light"
                    },
                    "paper_bgcolor": "white",
                    "plot_bgcolor": "#E5ECF6",
                    "polar": {
                      "angularaxis": {
                        "gridcolor": "white",
                        "linecolor": "white",
                        "ticks": ""
                      },
                      "bgcolor": "#E5ECF6",
                      "radialaxis": {
                        "gridcolor": "white",
                        "linecolor": "white",
                        "ticks": ""
                      }
                    },
                    "scene": {
                      "xaxis": {
                        "backgroundcolor": "#E5ECF6",
                        "gridcolor": "white",
                        "gridwidth": 2,
                        "linecolor": "white",
                        "showbackground": true,
                        "ticks": "",
                        "zerolinecolor": "white"
                      },
                      "yaxis": {
                        "backgroundcolor": "#E5ECF6",
                        "gridcolor": "white",
                        "gridwidth": 2,
                        "linecolor": "white",
                        "showbackground": true,
                        "ticks": "",
                        "zerolinecolor": "white"
                      },
                      "zaxis": {
                        "backgroundcolor": "#E5ECF6",
                        "gridcolor": "white",
                        "gridwidth": 2,
                        "linecolor": "white",
                        "showbackground": true,
                        "ticks": "",
                        "zerolinecolor": "white"
                      }
                    },
                    "shapedefaults": {
                      "line": {
                        "color": "#2a3f5f"
                      }
                    },
                    "ternary": {
                      "aaxis": {
                        "gridcolor": "white",
                        "linecolor": "white",
                        "ticks": ""
                      },
                      "baxis": {
                        "gridcolor": "white",
                        "linecolor": "white",
                        "ticks": ""
                      },
                      "bgcolor": "#E5ECF6",
                      "caxis": {
                        "gridcolor": "white",
                        "linecolor": "white",
                        "ticks": ""
                      }
                    },
                    "title": {
                      "x": 0.05
                    },
                    "xaxis": {
                      "automargin": true,
                      "gridcolor": "white",
                      "linecolor": "white",
                      "ticks": "",
                      "title": {
                        "standoff": 15
                      },
                      "zerolinecolor": "white",
                      "zerolinewidth": 2
                    },
                    "yaxis": {
                      "automargin": true,
                      "gridcolor": "white",
                      "linecolor": "white",
                      "ticks": "",
                      "title": {
                        "standoff": 15
                      },
                      "zerolinecolor": "white",
                      "zerolinewidth": 2
                    }
                  }
                },
                "title": {
                  "text": "Hierarchical Clustering"
                },
                "width": 700,
                "xaxis": {
                  "mirror": "allticks",
                  "rangemode": "tozero",
                  "showgrid": false,
                  "showline": true,
                  "showticklabels": true,
                  "tickmode": "array",
                  "ticks": "outside",
                  "ticktext": [
                    "17",
                    "15",
                    "16",
                    "1",
                    "2",
                    "3",
                    "0",
                    "4",
                    "9",
                    "5",
                    "8",
                    "6",
                    "7",
                    "13",
                    "11",
                    "14",
                    "10",
                    "12"
                  ],
                  "tickvals": [
                    5,
                    15,
                    25,
                    35,
                    45,
                    55,
                    65,
                    75,
                    85,
                    95,
                    105,
                    115,
                    125,
                    135,
                    145,
                    155,
                    165,
                    175
                  ],
                  "title": {
                    "text": "Texts"
                  },
                  "type": "linear",
                  "zeroline": false
                },
                "yaxis": {
                  "mirror": "allticks",
                  "rangemode": "tozero",
                  "showgrid": false,
                  "showline": true,
                  "showticklabels": true,
                  "ticks": "outside",
                  "title": {
                    "text": "Cosine"
                  },
                  "type": "linear",
                  "zeroline": false
                }
              }
            }
          },
          "metadata": {},
          "output_type": "display_data"
        }
      ],
      "execution_count": 72
    },
    {
      "cell_type": "code",
      "source": "import json\n\nthreshold = 0.2\n\nclusters = hierarchy.linkage(embeddings, \"average\", metric=\"cosine\")\nflat_clusters = hierarchy.fcluster(clusters, threshold, criterion=\"distance\")\n\nnum_of_clusters = len(set(flat_clusters))\n\ngroups: list[list[str]] = [[] for _ in range(num_of_clusters)]\n\nfor text, flat_cluster_num in zip(texts, flat_clusters):\n    groups[flat_cluster_num - 1].append(text)\n\nprint(json.dumps(groups, indent=4))",
      "metadata": {},
      "outputs": [
        {
          "name": "stdout",
          "output_type": "stream",
          "text": [
            "[\n",
            "    [\n",
            "        \"The chef skillfully prepared a gourmet dish with a delicate balance of flavors and textures.\"\n",
            "    ],\n",
            "    [\n",
            "        \"The artist meticulously crafted a masterpiece, capturing the essence of emotion on canvas.\"\n",
            "    ],\n",
            "    [\n",
            "        \"The programmer wrote efficient and bug-free code, ensuring the seamless operation of the software.\"\n",
            "    ],\n",
            "    [\n",
            "        \"@testuser COVID-19, caused by the SARS-CoV-2 virus, is a highly contagious respiratory illness. #covid19\",\n",
            "        \"The Coronavirus, or COVID-19, is a rapidly spreading respiratory disease caused by the SARS-CoV-2 virus.\",\n",
            "        \"SARS-CoV-2, responsible for COVID-19, is a contagious respiratory infection with global impact.\",\n",
            "        \"@lelele The SARS-CoV-2 virus is the causative agent of COVID-19, a highly contagious respiratory illness.\",\n",
            "        \"COVID-19, caused by the SARS-CoV-2 virus, is a widespread respiratory disease affecting populations globally.\"\n",
            "    ],\n",
            "    [\n",
            "        \"Donald Trump served as the 45th President of the United States from 2017 to 2021.\",\n",
            "        \"In the years 2017 to 2021, Donald Trump held the position of the 45th President of the United States.\",\n",
            "        \"During the term from 2017 to 2021, Donald Trump assumed the role of the 45th President of the United States.\",\n",
            "        \"From 2017 to 2021, Donald Trump functioned as the 45th President of the United States.\",\n",
            "        \"Donald Trump, having served from 2017 to 2021, was the 45th President of the United States.\"\n",
            "    ],\n",
            "    [\n",
            "        \"The political debate heated up as candidates clashed over policies and ideologies.\"\n",
            "    ],\n",
            "    [\n",
            "        \"Amidst political turmoil, citizens voiced their concerns about the direction of the government.\"\n",
            "    ],\n",
            "    [\n",
            "        \"Campaign rallies echoed with passionate speeches as candidates rallied their supporters.\"\n",
            "    ],\n",
            "    [\n",
            "        \"In the corridors of power, politicians strategized to gain support for their proposed legislation.\"\n",
            "    ],\n",
            "    [\n",
            "        \"A diplomatic summit aimed to address global challenges and foster international cooperation.\"\n",
            "    ]\n",
            "]\n"
          ]
        }
      ],
      "execution_count": 73
    }
  ]
}